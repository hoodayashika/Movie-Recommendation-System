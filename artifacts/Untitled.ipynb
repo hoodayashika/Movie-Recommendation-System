{
 "cells": [
  {
   "cell_type": "code",
   "execution_count": 4,
   "id": "57570144-a02b-4ce8-9fcb-aee1ac36dbb1",
   "metadata": {},
   "outputs": [],
   "source": [
    "import gzip\n",
    "import shutil\n",
    "\n",
    "# Path to the original file\n",
    "input_file = 'similarity.pkl'\n",
    "\n",
    "# Path for the compressed output file\n",
    "output_file = 'similarity_compressed.pkl.gz'\n",
    "\n",
    "# Compress the file\n",
    "with open(input_file, 'rb') as f_in, gzip.open(output_file, 'wb', compresslevel=9) as f_out:\n",
    "    shutil.copyfileobj(f_in,f_out)"
   ]
  },
  {
   "cell_type": "code",
   "execution_count": null,
   "id": "8ea71451-55f2-4f4a-9439-29bfd9627a17",
   "metadata": {},
   "outputs": [],
   "source": []
  }
 ],
 "metadata": {
  "kernelspec": {
   "display_name": "Python 3 (ipykernel)",
   "language": "python",
   "name": "python3"
  },
  "language_info": {
   "codemirror_mode": {
    "name": "ipython",
    "version": 3
   },
   "file_extension": ".py",
   "mimetype": "text/x-python",
   "name": "python",
   "nbconvert_exporter": "python",
   "pygments_lexer": "ipython3",
   "version": "3.12.4"
  }
 },
 "nbformat": 4,
 "nbformat_minor": 5
}
